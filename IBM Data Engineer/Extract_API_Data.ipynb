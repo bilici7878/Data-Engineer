{
 "cells": [
  {
   "cell_type": "markdown",
   "metadata": {},
   "source": [
    "<center>\n",
    "    <img src=\"https://gitlab.com/ibm/skills-network/courses/placeholder101/-/raw/master/labs/module%201/images/IDSNlogo.png\" width=\"300\" alt=\"cognitiveclass.ai logo\"  />\n",
    "</center>\n"
   ]
  },
  {
   "cell_type": "markdown",
   "metadata": {},
   "source": [
    "# Peer Review Assignment - Data Engineer - Extract API Data\n"
   ]
  },
  {
   "cell_type": "markdown",
   "metadata": {},
   "source": [
    "## Objectives\n",
    "\n",
    "In this part you will:\n",
    "\n",
    "*   Collect exchange rate data using an API\n",
    "*   Store the data as a CSV\n"
   ]
  },
  {
   "cell_type": "markdown",
   "metadata": {},
   "source": [
    "For this lab, we are going to be using Python and several Python libraries. Some of these libraries might be installed in your lab environment or in SN Labs. Others may need to be installed by you. The cells below will install these libraries when executed.\n"
   ]
  },
  {
   "cell_type": "code",
   "execution_count": null,
   "metadata": {},
   "outputs": [],
   "source": [
    "#!pip install pandas\n",
    "#!pip install requests\n"
   ]
  },
  {
   "cell_type": "markdown",
   "metadata": {},
   "source": [
    "## Imports\n",
    "\n",
    "Import any additional libraries you may need here.\n"
   ]
  },
  {
   "cell_type": "code",
   "execution_count": 1,
   "metadata": {},
   "outputs": [],
   "source": [
    "import requests\n",
    "import pandas as pd\n",
    "import json"
   ]
  },
  {
   "cell_type": "markdown",
   "metadata": {},
   "source": [
    "## Extract Data Using an API\n"
   ]
  },
  {
   "cell_type": "markdown",
   "metadata": {},
   "source": [
    "Using ExchangeRate-API we will extract currency exchange rate data. Use the below steps to get the access key and to get the data.\n",
    "\n",
    "1.  Open the url : [https://exchangeratesapi.io/](https://exchangeratesapi.io/?utm_medium=Exinfluencer&utm_source=Exinfluencer&utm_content=000026UJ&utm_term=10006555&utm_id=NA-SkillsNetwork-Channel-SkillsNetworkCoursesIBMDeveloperSkillsNetworkPY0221ENSkillsNetwork23455645-2021-01-01) and create a free account.\n",
    "2.  Once the account is created. You will get the Get the Free API key option on the top as shown below:\n",
    "\n",
    "<img src=\"https://cf-courses-data.s3.us.cloud-object-storage.appdomain.cloud/IBMDeveloperSkillsNetwork-PY0221EN-SkillsNetwork/labs/module%206/Final%20Assignment/Images/getapi.png\"/>\n",
    "\n",
    "3.  Copy the API key and use in the url in Question 1.\n"
   ]
  },
  {
   "cell_type": "markdown",
   "metadata": {},
   "source": [
    "### Call the API\n",
    "\n",
    "<b> Question 1</b> Using the `requests` library call the endpoint given above and save the text, remember the first few characters of the output:\n"
   ]
  },
  {
   "cell_type": "code",
   "execution_count": 2,
   "metadata": {},
   "outputs": [
    {
     "data": {
      "text/plain": [
       "{'success': True,\n",
       " 'timestamp': 1643459943,\n",
       " 'base': 'EUR',\n",
       " 'date': '2022-01-29',\n",
       " 'rates': {'AED': 4.094668,\n",
       "  'AFN': 115.385152,\n",
       "  'ALL': 120.676402,\n",
       "  'AMD': 538.118636,\n",
       "  'ANG': 1.999879,\n",
       "  'AOA': 589.868963,\n",
       "  'ARS': 116.822818,\n",
       "  'AUD': 1.595223,\n",
       "  'AWG': 2.007178,\n",
       "  'AZN': 1.899568,\n",
       "  'BAM': 1.957198,\n",
       "  'BBD': 2.249543,\n",
       "  'BDT': 95.745705,\n",
       "  'BGN': 1.956242,\n",
       "  'BHD': 0.420043,\n",
       "  'BIF': 2249.08761,\n",
       "  'BMD': 1.114789,\n",
       "  'BND': 1.512118,\n",
       "  'BOB': 7.670904,\n",
       "  'BRL': 5.984316,\n",
       "  'BSD': 1.114079,\n",
       "  'BTC': 2.9422927e-05,\n",
       "  'BTN': 83.658666,\n",
       "  'BWP': 13.046548,\n",
       "  'BYN': 2.907546,\n",
       "  'BYR': 21849.8722,\n",
       "  'BZD': 2.24577,\n",
       "  'CAD': 1.423776,\n",
       "  'CDF': 2239.612304,\n",
       "  'CHF': 1.038161,\n",
       "  'CLF': 0.032861,\n",
       "  'CLP': 906.747842,\n",
       "  'CNY': 7.091514,\n",
       "  'COP': 4412.347585,\n",
       "  'CRC': 713.95916,\n",
       "  'CUC': 1.114789,\n",
       "  'CUP': 29.541919,\n",
       "  'CVE': 110.643287,\n",
       "  'CZK': 24.492485,\n",
       "  'DJF': 198.120811,\n",
       "  'DKK': 7.442896,\n",
       "  'DOP': 64.268047,\n",
       "  'DZD': 156.594845,\n",
       "  'EGP': 17.53963,\n",
       "  'ERN': 16.721863,\n",
       "  'ETB': 55.46121,\n",
       "  'EUR': 1,\n",
       "  'FJD': 2.409622,\n",
       "  'FKP': 0.811478,\n",
       "  'GBP': 0.831622,\n",
       "  'GEL': 3.394578,\n",
       "  'GGP': 0.811477,\n",
       "  'GHS': 7.027475,\n",
       "  'GIP': 0.811477,\n",
       "  'GMD': 58.976655,\n",
       "  'GNF': 10049.826819,\n",
       "  'GTQ': 8.565057,\n",
       "  'GYD': 233.100289,\n",
       "  'HKD': 8.687504,\n",
       "  'HNL': 27.379661,\n",
       "  'HRK': 7.531187,\n",
       "  'HTG': 114.390567,\n",
       "  'HUF': 358.617034,\n",
       "  'IDR': 16034.461826,\n",
       "  'ILS': 3.569991,\n",
       "  'IMP': 0.811477,\n",
       "  'INR': 83.610933,\n",
       "  'IQD': 1627.035126,\n",
       "  'IRR': 47127.722191,\n",
       "  'ISK': 144.020073,\n",
       "  'JEP': 0.811478,\n",
       "  'JMD': 174.160794,\n",
       "  'JOD': 0.79043,\n",
       "  'JPY': 128.440505,\n",
       "  'KES': 126.644316,\n",
       "  'KGS': 94.533254,\n",
       "  'KHR': 4528.836164,\n",
       "  'KMF': 491.90125,\n",
       "  'KPW': 1003.310633,\n",
       "  'KRW': 1348.683789,\n",
       "  'KWD': 0.337837,\n",
       "  'KYD': 0.928487,\n",
       "  'KZT': 484.813303,\n",
       "  'LAK': 12630.564268,\n",
       "  'LBP': 1687.237967,\n",
       "  'LKR': 225.061135,\n",
       "  'LRD': 169.727111,\n",
       "  'LSL': 17.435732,\n",
       "  'LTL': 3.291684,\n",
       "  'LVL': 0.674325,\n",
       "  'LYD': 5.117308,\n",
       "  'MAD': 10.512888,\n",
       "  'MDL': 19.998572,\n",
       "  'MGA': 4459.157978,\n",
       "  'MKD': 61.673672,\n",
       "  'MMK': 1980.983657,\n",
       "  'MNT': 3186.994672,\n",
       "  'MOP': 8.944314,\n",
       "  'MRO': 397.979623,\n",
       "  'MUR': 48.083504,\n",
       "  'MVR': 17.223918,\n",
       "  'MWK': 910.229711,\n",
       "  'MXN': 23.193918,\n",
       "  'MYR': 4.671389,\n",
       "  'MZN': 71.157428,\n",
       "  'NAD': 17.435727,\n",
       "  'NGN': 463.373781,\n",
       "  'NIO': 39.519704,\n",
       "  'NOK': 10.013668,\n",
       "  'NPR': 133.853986,\n",
       "  'NZD': 1.703938,\n",
       "  'OMR': 0.429032,\n",
       "  'PAB': 1.114179,\n",
       "  'PEN': 4.290867,\n",
       "  'PGK': 3.913329,\n",
       "  'PHP': 56.976303,\n",
       "  'PKR': 197.262402,\n",
       "  'PLN': 4.582193,\n",
       "  'PYG': 7874.523289,\n",
       "  'QAR': 4.058991,\n",
       "  'RON': 4.94599,\n",
       "  'RSD': 117.53961,\n",
       "  'RUB': 87.170181,\n",
       "  'RWF': 1133.740818,\n",
       "  'SAR': 4.182698,\n",
       "  'SBD': 8.993935,\n",
       "  'SCR': 14.743603,\n",
       "  'SDG': 491.622503,\n",
       "  'SEK': 10.489912,\n",
       "  'SGD': 1.510456,\n",
       "  'SHP': 1.535515,\n",
       "  'SLL': 12786.634772,\n",
       "  'SOS': 652.152175,\n",
       "  'SRD': 23.349306,\n",
       "  'STD': 23073.889787,\n",
       "  'SVC': 9.748816,\n",
       "  'SYP': 2800.350717,\n",
       "  'SZL': 17.435718,\n",
       "  'THB': 37.238467,\n",
       "  'TJS': 12.584111,\n",
       "  'TMT': 3.912911,\n",
       "  'TND': 3.235161,\n",
       "  'TOP': 2.528287,\n",
       "  'TRY': 15.108968,\n",
       "  'TTD': 7.572432,\n",
       "  'TWD': 31.038009,\n",
       "  'TZS': 2575.163883,\n",
       "  'UAH': 31.898845,\n",
       "  'UGX': 3910.534025,\n",
       "  'USD': 1.114789,\n",
       "  'UYU': 48.973216,\n",
       "  'UZS': 12062.021659,\n",
       "  'VEF': 238375664822.6875,\n",
       "  'VND': 25249.979863,\n",
       "  'VUV': 126.719687,\n",
       "  'WST': 2.912212,\n",
       "  'XAF': 656.442446,\n",
       "  'XAG': 0.049605,\n",
       "  'XAU': 0.000622,\n",
       "  'XCD': 3.012775,\n",
       "  'XDR': 0.800492,\n",
       "  'XOF': 655.496537,\n",
       "  'XPF': 119.620915,\n",
       "  'YER': 278.976453,\n",
       "  'ZAR': 17.383279,\n",
       "  'ZMK': 10034.446334,\n",
       "  'ZMW': 20.08204,\n",
       "  'ZWL': 358.961731}}"
      ]
     },
     "execution_count": 2,
     "metadata": {},
     "output_type": "execute_result"
    }
   ],
   "source": [
    "# Write your code here\n",
    "\n",
    "url = \"http://api.exchangeratesapi.io/v1/latest?base=EUR&access_key=d38bdedbd97941*************\"  #Make sure to change ******* to your API key.\n",
    "data=requests.get(url)\n",
    "datajson=data.json()\n",
    "datajson"
   ]
  },
  {
   "cell_type": "markdown",
   "metadata": {},
   "source": [
    "### Save as DataFrame\n",
    "\n",
    "<b> Question 2</b>  Using the data gathered turn it into a `pandas` dataframe. The dataframe should have the Currency as the index and `Rate` as their columns. Make sure to drop unnecessary columns.\n"
   ]
  },
  {
   "cell_type": "code",
   "execution_count": 3,
   "metadata": {},
   "outputs": [],
   "source": [
    "# Turn the data into a dataframe\n",
    "\n",
    "df=pd.DataFrame(datajson)"
   ]
  },
  {
   "cell_type": "code",
   "execution_count": 4,
   "metadata": {},
   "outputs": [
    {
     "data": {
      "text/html": [
       "<div>\n",
       "<style scoped>\n",
       "    .dataframe tbody tr th:only-of-type {\n",
       "        vertical-align: middle;\n",
       "    }\n",
       "\n",
       "    .dataframe tbody tr th {\n",
       "        vertical-align: top;\n",
       "    }\n",
       "\n",
       "    .dataframe thead th {\n",
       "        text-align: right;\n",
       "    }\n",
       "</style>\n",
       "<table border=\"1\" class=\"dataframe\">\n",
       "  <thead>\n",
       "    <tr style=\"text-align: right;\">\n",
       "      <th></th>\n",
       "      <th>base</th>\n",
       "      <th>date</th>\n",
       "      <th>rates</th>\n",
       "    </tr>\n",
       "  </thead>\n",
       "  <tbody>\n",
       "    <tr>\n",
       "      <th>AED</th>\n",
       "      <td>EUR</td>\n",
       "      <td>2022-01-29</td>\n",
       "      <td>4.094668</td>\n",
       "    </tr>\n",
       "    <tr>\n",
       "      <th>AFN</th>\n",
       "      <td>EUR</td>\n",
       "      <td>2022-01-29</td>\n",
       "      <td>115.385152</td>\n",
       "    </tr>\n",
       "    <tr>\n",
       "      <th>ALL</th>\n",
       "      <td>EUR</td>\n",
       "      <td>2022-01-29</td>\n",
       "      <td>120.676402</td>\n",
       "    </tr>\n",
       "    <tr>\n",
       "      <th>AMD</th>\n",
       "      <td>EUR</td>\n",
       "      <td>2022-01-29</td>\n",
       "      <td>538.118636</td>\n",
       "    </tr>\n",
       "    <tr>\n",
       "      <th>ANG</th>\n",
       "      <td>EUR</td>\n",
       "      <td>2022-01-29</td>\n",
       "      <td>1.999879</td>\n",
       "    </tr>\n",
       "    <tr>\n",
       "      <th>...</th>\n",
       "      <td>...</td>\n",
       "      <td>...</td>\n",
       "      <td>...</td>\n",
       "    </tr>\n",
       "    <tr>\n",
       "      <th>YER</th>\n",
       "      <td>EUR</td>\n",
       "      <td>2022-01-29</td>\n",
       "      <td>278.976453</td>\n",
       "    </tr>\n",
       "    <tr>\n",
       "      <th>ZAR</th>\n",
       "      <td>EUR</td>\n",
       "      <td>2022-01-29</td>\n",
       "      <td>17.383279</td>\n",
       "    </tr>\n",
       "    <tr>\n",
       "      <th>ZMK</th>\n",
       "      <td>EUR</td>\n",
       "      <td>2022-01-29</td>\n",
       "      <td>10034.446334</td>\n",
       "    </tr>\n",
       "    <tr>\n",
       "      <th>ZMW</th>\n",
       "      <td>EUR</td>\n",
       "      <td>2022-01-29</td>\n",
       "      <td>20.082040</td>\n",
       "    </tr>\n",
       "    <tr>\n",
       "      <th>ZWL</th>\n",
       "      <td>EUR</td>\n",
       "      <td>2022-01-29</td>\n",
       "      <td>358.961731</td>\n",
       "    </tr>\n",
       "  </tbody>\n",
       "</table>\n",
       "<p>168 rows × 3 columns</p>\n",
       "</div>"
      ],
      "text/plain": [
       "    base        date         rates\n",
       "AED  EUR  2022-01-29      4.094668\n",
       "AFN  EUR  2022-01-29    115.385152\n",
       "ALL  EUR  2022-01-29    120.676402\n",
       "AMD  EUR  2022-01-29    538.118636\n",
       "ANG  EUR  2022-01-29      1.999879\n",
       "..   ...         ...           ...\n",
       "YER  EUR  2022-01-29    278.976453\n",
       "ZAR  EUR  2022-01-29     17.383279\n",
       "ZMK  EUR  2022-01-29  10034.446334\n",
       "ZMW  EUR  2022-01-29     20.082040\n",
       "ZWL  EUR  2022-01-29    358.961731\n",
       "\n",
       "[168 rows x 3 columns]"
      ]
     },
     "execution_count": 4,
     "metadata": {},
     "output_type": "execute_result"
    }
   ],
   "source": [
    "# Drop unnescessary columns\n",
    "df.drop(columns=[\"success\", \"timestamp\"], inplace=True)\n",
    "df"
   ]
  },
  {
   "cell_type": "markdown",
   "metadata": {},
   "source": [
    "### Load the Data\n",
    "\n",
    "Using the dataframe save it as a CSV names `exchange_rates.csv`.\n"
   ]
  },
  {
   "cell_type": "code",
   "execution_count": 5,
   "metadata": {},
   "outputs": [],
   "source": [
    "# Save the Dataframe\n",
    "df.to_csv(\"exchange_rates.csv\",index=True)"
   ]
  },
  {
   "cell_type": "markdown",
   "metadata": {},
   "source": [
    "Your CSV should be in this format with more currencies\n",
    "\n",
    "|     | Rates      |\n",
    "| --- | ---------- |\n",
    "| AED | 4.398618   |\n",
    "| AFN | 92.917693  |\n",
    "| ALL | 123.099093 |\n",
    "| AMD | 621.935674 |\n",
    "| ANG | 2.149648   |\n"
   ]
  },
  {
   "cell_type": "markdown",
   "metadata": {},
   "source": [
    "## Authors\n"
   ]
  },
  {
   "cell_type": "markdown",
   "metadata": {},
   "source": [
    "Ramesh Sannareddy, Joseph Santarcangelo and Azim Hirjani\n"
   ]
  },
  {
   "cell_type": "markdown",
   "metadata": {},
   "source": [
    "### Other Contributors\n"
   ]
  },
  {
   "cell_type": "markdown",
   "metadata": {},
   "source": [
    "Rav Ahuja\n"
   ]
  },
  {
   "cell_type": "markdown",
   "metadata": {},
   "source": [
    "## Change Log\n"
   ]
  },
  {
   "cell_type": "markdown",
   "metadata": {},
   "source": [
    "| Date (YYYY-MM-DD) | Version | Changed By        | Change Description                 |\n",
    "| ----------------- | ------- | ----------------- | ---------------------------------- |\n",
    "| 2021-04-15        | 0.2     | Malika            | Updated the lab from USD to EUR    |\n",
    "| 2020-11-25        | 0.1     | Ramesh Sannareddy | Created initial version of the lab |\n"
   ]
  },
  {
   "cell_type": "markdown",
   "metadata": {},
   "source": [
    "Copyright © 2020 IBM Corporation. This notebook and its source code are released under the terms of the [MIT License](https://cognitiveclass.ai/mit-license?utm_medium=Exinfluencer&utm_source=Exinfluencer&utm_content=000026UJ&utm_term=10006555&utm_id=NA-SkillsNetwork-Channel-SkillsNetworkCoursesIBMDeveloperSkillsNetworkPY0221ENSkillsNetwork23455645-2021-01-01&cm_mmc=Email_Newsletter-\\_-Developer_Ed%2BTech-\\_-WW_WW-\\_-SkillsNetwork-Courses-IBM-DA0321EN-SkillsNetwork-21426264&cm_mmca1=000026UJ&cm_mmca2=10006555&cm_mmca3=M12345678&cvosrc=email.Newsletter.M12345678&cvo_campaign=000026UJ).\n"
   ]
  }
 ],
 "metadata": {
  "kernelspec": {
   "display_name": "Python 3",
   "language": "python",
   "name": "python3"
  },
  "language_info": {
   "codemirror_mode": {
    "name": "ipython",
    "version": 3
   },
   "file_extension": ".py",
   "mimetype": "text/x-python",
   "name": "python",
   "nbconvert_exporter": "python",
   "pygments_lexer": "ipython3",
   "version": "3.8.8"
  },
  "nbTranslate": {
   "displayLangs": [
    "*"
   ],
   "hotkey": "alt-t",
   "langInMainMenu": true,
   "sourceLang": "en",
   "targetLang": "fr",
   "useGoogleTranslate": true
  },
  "toc": {
   "base_numbering": 1,
   "nav_menu": {},
   "number_sections": true,
   "sideBar": true,
   "skip_h1_title": false,
   "title_cell": "Table of Contents",
   "title_sidebar": "Contents",
   "toc_cell": false,
   "toc_position": {},
   "toc_section_display": true,
   "toc_window_display": false
  },
  "varInspector": {
   "cols": {
    "lenName": 16,
    "lenType": 16,
    "lenVar": 40
   },
   "kernels_config": {
    "python": {
     "delete_cmd_postfix": "",
     "delete_cmd_prefix": "del ",
     "library": "var_list.py",
     "varRefreshCmd": "print(var_dic_list())"
    },
    "r": {
     "delete_cmd_postfix": ") ",
     "delete_cmd_prefix": "rm(",
     "library": "var_list.r",
     "varRefreshCmd": "cat(var_dic_list()) "
    }
   },
   "types_to_exclude": [
    "module",
    "function",
    "builtin_function_or_method",
    "instance",
    "_Feature"
   ],
   "window_display": false
  }
 },
 "nbformat": 4,
 "nbformat_minor": 4
}
